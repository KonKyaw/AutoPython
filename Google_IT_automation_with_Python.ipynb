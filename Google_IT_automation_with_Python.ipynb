{
  "nbformat": 4,
  "nbformat_minor": 0,
  "metadata": {
    "colab": {
      "name": "Google IT automation with Python.ipynb",
      "provenance": [],
      "collapsed_sections": [],
      "toc_visible": true,
      "include_colab_link": true
    },
    "kernelspec": {
      "name": "python3",
      "display_name": "Python 3"
    }
  },
  "cells": [
    {
      "cell_type": "markdown",
      "metadata": {
        "id": "view-in-github",
        "colab_type": "text"
      },
      "source": [
        "<a href=\"https://colab.research.google.com/github/KonKyaw/AutoPython/blob/master/Google_IT_automation_with_Python.ipynb\" target=\"_parent\"><img src=\"https://colab.research.google.com/assets/colab-badge.svg\" alt=\"Open In Colab\"/></a>"
      ]
    },
    {
      "cell_type": "code",
      "metadata": {
        "id": "rtB4RJw7fXbu",
        "colab": {
          "base_uri": "https://localhost:8080/",
          "height": 195
        },
        "outputId": "1fb9c6e7-baa1-418b-db4d-8620bc63b0ac"
      },
      "source": [
        "a,b,c,d = 1,2,3\r\n",
        "print (a)\r\n",
        "print (b)"
      ],
      "execution_count": null,
      "outputs": [
        {
          "output_type": "error",
          "ename": "ValueError",
          "evalue": "ignored",
          "traceback": [
            "\u001b[0;31m---------------------------------------------------------------------------\u001b[0m",
            "\u001b[0;31mValueError\u001b[0m                                Traceback (most recent call last)",
            "\u001b[0;32m<ipython-input-6-963d94b20197>\u001b[0m in \u001b[0;36m<module>\u001b[0;34m()\u001b[0m\n\u001b[0;32m----> 1\u001b[0;31m \u001b[0ma\u001b[0m\u001b[0;34m,\u001b[0m\u001b[0mb\u001b[0m\u001b[0;34m,\u001b[0m\u001b[0mc\u001b[0m\u001b[0;34m,\u001b[0m\u001b[0md\u001b[0m \u001b[0;34m=\u001b[0m \u001b[0;36m1\u001b[0m\u001b[0;34m,\u001b[0m\u001b[0;36m2\u001b[0m\u001b[0;34m,\u001b[0m\u001b[0;36m3\u001b[0m\u001b[0;34m\u001b[0m\u001b[0;34m\u001b[0m\u001b[0m\n\u001b[0m\u001b[1;32m      2\u001b[0m \u001b[0mprint\u001b[0m \u001b[0;34m(\u001b[0m\u001b[0ma\u001b[0m\u001b[0;34m)\u001b[0m\u001b[0;34m\u001b[0m\u001b[0;34m\u001b[0m\u001b[0m\n\u001b[1;32m      3\u001b[0m \u001b[0mprint\u001b[0m \u001b[0;34m(\u001b[0m\u001b[0mb\u001b[0m\u001b[0;34m)\u001b[0m\u001b[0;34m\u001b[0m\u001b[0;34m\u001b[0m\u001b[0m\n",
            "\u001b[0;31mValueError\u001b[0m: not enough values to unpack (expected 4, got 3)"
          ]
        }
      ]
    },
    {
      "cell_type": "markdown",
      "metadata": {
        "id": "0TQddOuAs3P4"
      },
      "source": [
        "Dividend / Divisor = Quotient\n",
        "\n",
        "/ **float division** gives **float result**\n",
        "\n",
        "// **floor division** gives **Quotient**\n",
        "\n",
        "% **modulo** gives** Remainder**"
      ]
    },
    {
      "cell_type": "markdown",
      "metadata": {
        "id": "yftvwjwK17Tl"
      },
      "source": [
        "In 2/3:\n",
        "\n",
        "2 is numerator: the number above the line in a vulgar fraction showing how many of the parts indicated by the denominator are taken\n",
        "\n",
        "3 is denominator"
      ]
    },
    {
      "cell_type": "markdown",
      "metadata": {
        "id": "QGjMVbR4fiP_"
      },
      "source": [
        "#Course-1: **Crash Course on Python**"
      ]
    },
    {
      "cell_type": "markdown",
      "metadata": {
        "id": "QPzdWwFXf8Gf"
      },
      "source": [
        "Week 2"
      ]
    },
    {
      "cell_type": "code",
      "metadata": {
        "colab": {
          "base_uri": "https://localhost:8080/"
        },
        "id": "7_e7qR9Ei91E",
        "outputId": "c78cbde6-8f91-42e3-f46d-57490f5cabe8"
      },
      "source": [
        "def check(number):\n",
        "    if number > 11: \n",
        "        print(0)\n",
        "    elif number != 10:\n",
        "        print(1)\n",
        "    elif number >= 20 or number < 12:\n",
        "        print(2)\n",
        "    else:\n",
        "        print(3)\n",
        "\n",
        "check(10)"
      ],
      "execution_count": null,
      "outputs": [
        {
          "output_type": "stream",
          "text": [
            "2\n"
          ],
          "name": "stdout"
        }
      ]
    },
    {
      "cell_type": "code",
      "metadata": {
        "colab": {
          "base_uri": "https://localhost:8080/"
        },
        "id": "pjJKlrulztgR",
        "outputId": "3fe81cbd-db3b-483e-92c0-a4a7b57159f8"
      },
      "source": [
        "def format_name(first_name, last_name):\n",
        "\t\n",
        "\tstring=last_name+first_name\n",
        "\treturn string \n",
        "\n",
        "print(format_name(\"Ernest\", \"Hemingway\"))\n",
        "# Should return the string \"Name: Hemingway, Ernest\"\n",
        "\n",
        "print(format_name(\"\", \"Madonna\"))\n",
        "# Should return the string \"Name: Madonna\"\n",
        "\n",
        "print(format_name(\"Voltaire\", \"\"))\n",
        "# Should return the string \"Name: Voltaire\"\n",
        "\n",
        "print(format_name(\"\", \"\"))\n",
        "# Should return an empty string"
      ],
      "execution_count": null,
      "outputs": [
        {
          "output_type": "stream",
          "text": [
            "HemingwayErnest\n",
            "Madonna\n",
            "Voltaire\n",
            "\n"
          ],
          "name": "stdout"
        }
      ]
    },
    {
      "cell_type": "markdown",
      "metadata": {
        "id": "kYDum3KyQwDM"
      },
      "source": [
        "Week 3"
      ]
    },
    {
      "cell_type": "code",
      "metadata": {
        "colab": {
          "base_uri": "https://localhost:8080/"
        },
        "id": "Gyz6uYuS0p23",
        "outputId": "f1e2ce21-7342-4c18-eeec-e5333e692a89"
      },
      "source": [
        "#Passing strings into for loops\n",
        "def is_valid(name):\n",
        "    if len(name)>3:\n",
        "        return True\n",
        "    else:\n",
        "         return False\n",
        "\n",
        "def validate_users(users):\n",
        "  for user in users:\n",
        "    if is_valid(user):\n",
        "      print(user + \" is valid\")\n",
        "    else:\n",
        "      print(user + \" is invalid\")\n",
        "validate_users([\"purplecat\"])\n",
        "validate_users(\"Purplecat\") #need to pass as a list # don't use i to point in for statement"
      ],
      "execution_count": null,
      "outputs": [
        {
          "output_type": "stream",
          "text": [
            "purplecat is valid\n",
            "P is invalid\n",
            "u is invalid\n",
            "r is invalid\n",
            "p is invalid\n",
            "l is invalid\n",
            "e is invalid\n",
            "c is invalid\n",
            "a is invalid\n",
            "t is invalid\n"
          ],
          "name": "stdout"
        }
      ]
    },
    {
      "cell_type": "markdown",
      "metadata": {
        "id": "ck5lktMn3pTi"
      },
      "source": [
        "**Break & Continue**\n",
        "You can interrupt both while and for loops using the break keyword. We normally do this to interrupt a cycle due to a separate condition.\n",
        "\n",
        "You can use the **continue** keyword to skip the current iteration and continue with the next one. This is typically used to jump ahead when some of the elements of the sequence aren’t relevant."
      ]
    },
    {
      "cell_type": "code",
      "metadata": {
        "colab": {
          "base_uri": "https://localhost:8080/"
        },
        "id": "BltRXr1L5JA5",
        "outputId": "d9e02900-c114-4536-82f3-3c847ea5bf39"
      },
      "source": [
        "def factorial(n):\n",
        "    result = 1\n",
        "    for x in range(1,n+1):\n",
        "        result = result * x\n",
        "    return result\n",
        "print (factorial(1))\n"
      ],
      "execution_count": null,
      "outputs": [
        {
          "output_type": "stream",
          "text": [
            "1\n"
          ],
          "name": "stdout"
        }
      ]
    },
    {
      "cell_type": "code",
      "metadata": {
        "colab": {
          "base_uri": "https://localhost:8080/"
        },
        "id": "DJPRZJeC7gwH",
        "outputId": "d8697727-b969-4d0f-94da-91949d201cc5"
      },
      "source": [
        "def multiple(number,limit):\n",
        "    num = number\n",
        "    x= 0\n",
        "    while num*x<limit:\n",
        "        print(num*x)\n",
        "        x+=1\n",
        "multiple(7,100)"
      ],
      "execution_count": null,
      "outputs": [
        {
          "output_type": "stream",
          "text": [
            "0\n",
            "7\n",
            "14\n",
            "21\n",
            "28\n",
            "35\n",
            "42\n",
            "49\n",
            "56\n",
            "63\n",
            "70\n",
            "77\n",
            "84\n",
            "91\n",
            "98\n"
          ],
          "name": "stdout"
        }
      ]
    },
    {
      "cell_type": "markdown",
      "metadata": {
        "id": "vxKZDVvzFXM3"
      },
      "source": [
        "**Recursion**\n",
        "\n",
        "A recursive function must include a recursive case and base case. The recursive case calls the function again, with a different value. The base case returns a value without calling the same function.\n",
        "\n",
        "def recursive_function(parameters):\n",
        "\n",
        "    if base_case_condition(parameters):\n",
        "\n",
        "        return base_case_value\n",
        "        \n",
        "    recursive_function(modified_parameters)"
      ]
    },
    {
      "cell_type": "code",
      "metadata": {
        "colab": {
          "base_uri": "https://localhost:8080/"
        },
        "id": "GMJUQ0pJChKC",
        "outputId": "b4001dc5-d77b-443e-9467-718db40fc279"
      },
      "source": [
        "#Recursion \n",
        "def sum_positive_numbers(n):\n",
        "    # The base case is n being smaller than 1\n",
        "    \n",
        "    if n < 1:\n",
        "        return n\n",
        "\n",
        "    # The recursive case is adding this number to \n",
        "    # the sum of the numbers smaller than this one.\n",
        "\n",
        "    #recursive funtion sentense #transfer all the variable data (n) through this line\n",
        "    return n + sum_positive_numbers(n-1)\n",
        "\n",
        "print(sum_positive_numbers(3)) # Should be 6\n",
        "print(sum_positive_numbers(5)) # Should be 15"
      ],
      "execution_count": null,
      "outputs": [
        {
          "output_type": "stream",
          "text": [
            "6\n",
            "15\n"
          ],
          "name": "stdout"
        }
      ]
    },
    {
      "cell_type": "code",
      "metadata": {
        "id": "ujWs45TOQXzi"
      },
      "source": [
        "def is_power_of(number, base):\n",
        "  # Base case: when number is smaller than base.\n",
        "  if number < base:\n",
        "    # If number is equal to 1, it's a power (base**0).\n",
        "    return number==1\n",
        "\n",
        "  # Recursive case: keep dividing number by base.\n",
        "  return is_power_of(number/base, base)\n",
        "\n",
        "print(is_power_of(8,2)) # Should be True\n",
        "print(is_power_of(64,4)) # Should be True\n",
        "print(is_power_of(70,10)) # Should be False"
      ],
      "execution_count": null,
      "outputs": []
    },
    {
      "cell_type": "markdown",
      "metadata": {
        "id": "Izme6aYrMEfj"
      },
      "source": [
        "The count_users function recursively counts the amount of users that belong to a group in the company system, by going through each of the members of a group and if one of them is a group, recursively calling the function and counting the members. But it has a bug! Can you spot the problem and fix it?"
      ]
    },
    {
      "cell_type": "code",
      "metadata": {
        "colab": {
          "base_uri": "https://localhost:8080/"
        },
        "id": "mqp3JWc9G7iq",
        "outputId": "94bf0990-934f-4ead-a8d2-4a0fa46938ce"
      },
      "source": [
        "def count_users(group):\n",
        "  count = 0\n",
        "  for member in get_members(group):\n",
        "    count += 1\n",
        "    if is_group(member):\n",
        "      count += count_users(member)\n",
        "      count -= 1\n",
        "  return count\n",
        "\n",
        "print(count_users(\"sales\")) # Should be 3\n",
        "print(count_users(\"engineering\")) # Should be 8\n",
        "print(count_users(\"everyone\")) # Should be 18"
      ],
      "execution_count": null,
      "outputs": [
        {
          "output_type": "stream",
          "text": [
            "2\n",
            "3\n",
            "4\n",
            "0\n"
          ],
          "name": "stdout"
        }
      ]
    },
    {
      "cell_type": "code",
      "metadata": {
        "id": "HFH5DCZ1P8tg"
      },
      "source": [
        "for x in range(10):\n",
        "    for y in range(x):\n",
        "        print(y)"
      ],
      "execution_count": null,
      "outputs": []
    },
    {
      "cell_type": "code",
      "metadata": {
        "id": "L9o4PGSuXgJc"
      },
      "source": [
        ""
      ],
      "execution_count": null,
      "outputs": []
    },
    {
      "cell_type": "markdown",
      "metadata": {
        "id": "zklyVmvWXgiU"
      },
      "source": [
        "Week 4: Strings"
      ]
    },
    {
      "cell_type": "code",
      "metadata": {
        "colab": {
          "base_uri": "https://localhost:8080/",
          "height": 35
        },
        "id": "b5sf_NWMXtYp",
        "outputId": "a0da9da6-928e-4751-d38a-a44452042019"
      },
      "source": [
        "message=\"KaungKyawKaungKyaw\"\n",
        "message[3::2]"
      ],
      "execution_count": null,
      "outputs": [
        {
          "output_type": "execute_result",
          "data": {
            "application/vnd.google.colaboratory.intrinsic+json": {
              "type": "string"
            },
            "text/plain": [
              "'nKaKugyw'"
            ]
          },
          "metadata": {
            "tags": []
          },
          "execution_count": 18
        }
      ]
    },
    {
      "cell_type": "code",
      "metadata": {
        "colab": {
          "base_uri": "https://localhost:8080/"
        },
        "id": "qco6UBstJgFe",
        "outputId": "31eaffb7-133b-4dd5-dfaf-f3cbf526e254"
      },
      "source": [
        "def is_palindrome(input_string):\n",
        "\t# We'll create two strings, to compare them\n",
        "\tnew_string = \"\"\n",
        "\treverse_string = \"\"\n",
        "\tinput_string=input_string.lower()\n",
        "\tinput_string=input_string.strip()\n",
        "\t# Traverse through each letter of the input string\n",
        "\tfor letter in input_string:\n",
        "\t\tif letter!=\" \":\n",
        "\t\t\tnew_string+=letter\n",
        "\t\t\treverse_string=letter+reverse_string\n",
        "\t\t# Add any non-blank letters to the \n",
        "\t\t# end of one string, and to the front\n",
        "\t\t# of the other string. \n",
        "\t\t#if ___:\n",
        "\t\t\t#new_string = ___\n",
        "\t\t\t#reverse_string = ___\n",
        "\t    # Compare the strings\n",
        "    \n",
        "\tif new_string==reverse_string:\n",
        "\t\treturn True\n",
        "\treturn False\n",
        "\n",
        "print(is_palindrome(\"Never Odd or Even\")) # Should be True\n",
        "print(is_palindrome(\"abc\")) # Should be False\n",
        "print(is_palindrome(\"kayak\")) # Should be True"
      ],
      "execution_count": null,
      "outputs": [
        {
          "output_type": "stream",
          "text": [
            "True\n",
            "False\n",
            "True\n"
          ],
          "name": "stdout"
        }
      ]
    },
    {
      "cell_type": "code",
      "metadata": {
        "colab": {
          "base_uri": "https://localhost:8080/"
        },
        "id": "oEnM-AVK-NPd",
        "outputId": "27d02447-d4c8-470f-f32e-8a5549ac4a08"
      },
      "source": [
        "def skip_elements(elements):\n",
        "\t# Initialize variables\n",
        "\tnew_list = []\n",
        "\ti = 0\n",
        "\n",
        "\t# Iterate through the list\n",
        "\tfor i in range(0,len(elements),2):\n",
        "\t\t# Does this element belong in the resulting list?\n",
        "\t\tnew_list.append(elements[i]) ##different between + and append\n",
        "\t\t\n",
        "\n",
        "\treturn new_list\n",
        "\n",
        "print(skip_elements([\"a\", \"b\", \"c\", \"d\", \"e\", \"f\", \"g\"])) # Should be ['a', 'c', 'e', 'g']\n",
        "print(skip_elements(['Orange', 'Pineapple', 'Strawberry', 'Kiwi', 'Peach'])) # Should be ['Orange', 'Strawberry', 'Peach']\n",
        "print(skip_elements([])) # Should be []\n",
        "\n"
      ],
      "execution_count": null,
      "outputs": [
        {
          "output_type": "stream",
          "text": [
            "['a', 'c', 'e', 'g']\n",
            "['Orange', 'Strawberry', 'Peach']\n",
            "[]\n"
          ],
          "name": "stdout"
        }
      ]
    },
    {
      "cell_type": "code",
      "metadata": {
        "colab": {
          "base_uri": "https://localhost:8080/"
        },
        "id": "YA_n_afi-UI3",
        "outputId": "55c747ca-0789-4d39-f230-467dd05fe773"
      },
      "source": [
        "elements=['Orange', 'Pineapple', 'Strawberry', 'Kiwi', 'Peach']\n",
        "elements[2]\n",
        "new_list=[]\n",
        "new_list+=elements[2]\n",
        "new_list"
      ],
      "execution_count": null,
      "outputs": [
        {
          "output_type": "execute_result",
          "data": {
            "text/plain": [
              "['S', 't', 'r', 'a', 'w', 'b', 'e', 'r', 'r', 'y']"
            ]
          },
          "metadata": {
            "tags": []
          },
          "execution_count": 11
        }
      ]
    },
    {
      "cell_type": "markdown",
      "metadata": {
        "id": "3WUvpLVJeMZn"
      },
      "source": [
        "Let’s expand a bit on our Clothing classes from the previous in-video question. Your mission: Finish the \"Stock_by_Material\" method and iterate over the amount of each item of a given material that is in stock. When you’re finished, the script should add up to 10 cotton Polo shirts."
      ]
    },
    {
      "cell_type": "code",
      "metadata": {
        "id": "j1GTaw0YeJi4"
      },
      "source": [
        "class Clothing:\n",
        "  stock={ 'name': [],'material' :[], 'amount':[]}\n",
        "  def __init__(self,name):\n",
        "    material = \"\"\n",
        "    self.name = name\n",
        "  def add_item(self, name, material, amount):\n",
        "    Clothing.stock['name'].append(self.name)\n",
        "    Clothing.stock['material'].append(self.material)\n",
        "    Clothing.stock['amount'].append(amount)\n",
        "  def Stock_by_Material(self, material):\n",
        "    count=0\n",
        "    n=0\n",
        "    for item in Clothing.stock['___']:\n",
        "      if item == material:\n",
        "        count += Clothing.___['amount'][n]\n",
        "        n+=1\n",
        "    return count\n",
        "\n",
        "class shirt(Clothing):\n",
        "  material=\"Cotton\"\n",
        "class pants(Clothing):\n",
        "  material=\"Cotton\"\n",
        "  \n",
        "polo = shirt(\"Polo\")\n",
        "sweatpants = pants(\"Sweatpants\")\n",
        "polo.add_item(polo.name, polo.material, 4)\n",
        "sweatpants.add_item(sweatpants.name, sweatpants.material, 6)\n",
        "current_stock = polo.Stock_by_Material(\"Cotton\")\n",
        "print(current_stock)"
      ],
      "execution_count": null,
      "outputs": []
    },
    {
      "cell_type": "code",
      "metadata": {
        "colab": {
          "base_uri": "https://localhost:8080/"
        },
        "id": "z5_Qp6Vk7rpT",
        "outputId": "f85bd783-2c3e-41b1-d2b4-38e1ee3e6e3d"
      },
      "source": [
        "str=\"Praise for From Mindfulness to Heartfulness 12 “From Mindfulness to Heartful\"\n",
        "y=\"\"\n",
        "for x in str:\n",
        "    if x==\" \":\n",
        "        y+=x\n",
        "    elif x.isalpha():\n",
        "        y+=x\n",
        "\n",
        "print(y.split())\n"
      ],
      "execution_count": null,
      "outputs": [
        {
          "output_type": "stream",
          "text": [
            "['Praise', 'for', 'From', 'Mindfulness', 'to', 'Heartfulness', 'From', 'Mindfulness', 'to', 'Heartful']\n"
          ],
          "name": "stdout"
        }
      ]
    },
    {
      "cell_type": "markdown",
      "metadata": {
        "id": "1Y6tabanoeQM"
      },
      "source": [
        "##**Final Project - Word Cloud**"
      ]
    },
    {
      "cell_type": "markdown",
      "metadata": {
        "id": "bia0UzNxpmbE"
      },
      "source": [
        "For this project, you'll create a \"word cloud\" from a text by writing a script.  This script needs to process the text, remove punctuation, ignore case and words that do not contain all alphabets, count the frequencies, and ignore uninteresting or irrelevant words.  A dictionary is the output of the `calculate_frequencies` function.  The `wordcloud` module will then generate the image from your dictionary."
      ]
    },
    {
      "cell_type": "markdown",
      "metadata": {
        "id": "y6yP7VLcpGJ6"
      },
      "source": [
        "For the input text of your script, you will need to provide a file that contains text only.  For the text itself, you can copy and paste the contents of a website you like.  Or you can use a site like [Project Gutenberg](https://www.gutenberg.org/) to find books that are available online.  You could see what word clouds you can get from famous books, like a Shakespeare play or a novel by Jane Austen. Save this as a .txt file somewhere on your computer.\r\n",
        "<br><br>\r\n",
        "Now you will need to upload your input file here so that your script will be able to process it.  To do the upload, you will need an uploader widget.  Run the following cell to perform all the installs and imports for your word cloud script and uploader widget.  It may take a minute for all of this to run and there will be a lot of output messages. But, be patient. Once you get the following final line of output, the code is done executing. Then you can continue on with the rest of the instructions for this notebook.\r\n",
        "<br><br>\r\n",
        "**Enabling notebook extension fileupload/extension...**\r\n",
        "<br>\r\n",
        "**- Validating: <font color =green>OK</font>**"
      ]
    },
    {
      "cell_type": "code",
      "metadata": {
        "id": "D1sDLb4ppJ7X"
      },
      "source": [
        "# Here are all the installs and imports you will need for your word cloud script and uploader widget\r\n",
        "\r\n",
        "!pip install wordcloud\r\n",
        "!pip install fileupload\r\n",
        "!pip install ipywidgets\r\n",
        "!jupyter nbextension install --py --user fileupload\r\n",
        "!jupyter nbextension enable --py fileupload\r\n",
        "\r\n",
        "import wordcloud\r\n",
        "import numpy as np\r\n",
        "from matplotlib import pyplot as plt\r\n",
        "from IPython.display import display\r\n",
        "import fileupload\r\n",
        "import io\r\n",
        "import sys"
      ],
      "execution_count": null,
      "outputs": []
    },
    {
      "cell_type": "markdown",
      "metadata": {
        "id": "0sXbasgQpNIR"
      },
      "source": [
        "Whew! That was a lot. All of the installs and imports for your word cloud script and uploader widget have been completed. \r\n",
        "<br><br>\r\n",
        "**IMPORTANT!** If this was your first time running the above cell containing the installs and imports, you will need save this notebook now. Then under the File menu above,  select Close and Halt. When the notebook has completely shut down, reopen it. This is the only way the necessary changes will take affect.\r\n",
        "<br><br>\r\n",
        "To upload your text file, run the following cell that contains all the code for a custom uploader widget. Once you run this cell, a \"Browse\" button should appear below it. Click this button and navigate the window to locate your saved text file."
      ]
    },
    {
      "cell_type": "code",
      "metadata": {
        "id": "SkQeFPJFpPJu"
      },
      "source": [
        "# This is the uploader widget\r\n",
        "\r\n",
        "def _upload():\r\n",
        "\r\n",
        "    _upload_widget = fileupload.FileUploadWidget()\r\n",
        "\r\n",
        "    def _cb(change):\r\n",
        "        global file_contents\r\n",
        "        decoded = io.StringIO(change['owner'].data.decode('utf-8'))\r\n",
        "        filename = change['owner'].filename\r\n",
        "        print('Uploaded `{}` ({:.2f} kB)'.format(\r\n",
        "            filename, len(decoded.read()) / 2 **10))\r\n",
        "        file_contents = decoded.getvalue()\r\n",
        "\r\n",
        "    _upload_widget.observe(_cb, names='data')\r\n",
        "    display(_upload_widget)\r\n",
        "\r\n",
        "_upload()"
      ],
      "execution_count": null,
      "outputs": []
    },
    {
      "cell_type": "markdown",
      "metadata": {
        "id": "ocO27r_gpRzz"
      },
      "source": [
        "The uploader widget saved the contents of your uploaded file into a string object named *file_contents* that your word cloud script can process. This was a lot of preliminary work, but you are now ready to begin your script. "
      ]
    },
    {
      "cell_type": "markdown",
      "metadata": {
        "id": "mX9AJeWxpVTB"
      },
      "source": [
        "Write a function in the cell below that iterates through the words in *file_contents*, removes punctuation, and counts the frequency of each word.  Oh, and be sure to make it ignore word case, words that do not contain all alphabets and boring words like \"and\" or \"the\".  Then use it in the `generate_from_frequencies` function to generate your very own word cloud!\r\n",
        "<br><br>\r\n",
        "**Hint:** Try storing the results of your iteration in a dictionary before passing them into wordcloud via the `generate_from_frequencies` function."
      ]
    },
    {
      "cell_type": "code",
      "metadata": {
        "id": "ieNDmdKCpX-3"
      },
      "source": [
        "def calculate_frequencies(file_contents):\r\n",
        "    # Here is a list of punctuations and uninteresting words you can use to process your text\r\n",
        "    punctuations = '''!()-[]{};:'\"\\,<>./?@#$%^&*_~'''\r\n",
        "    uninteresting_words = [\"could\", \"these\", \"those\", \"into\", \"also\", \"than\", \"so\", \"would\", \"many\", \"even\", \"there\", \"the\",\"not\",\"for\", \"a\",\"in\",\"on\",\"us\",\"others\",\"other\",\"about\",\"may\", \"to\", \"if\", \"is\", \"it\", \"of\", \"and\", \"or\", \"an\", \"as\", \"i\", \"me\", \"my\", \\\r\n",
        "    \"we\", \"our\", \"ours\", \"you\", \"your\", \"yours\", \"he\", \"she\", \"him\", \"his\", \"her\", \"hers\", \"its\", \"they\", \"them\", \\\r\n",
        "    \"their\", \"what\", \"which\", \"who\", \"whom\", \"this\", \"that\", \"am\", \"are\", \"was\", \"were\", \"be\", \"been\", \"being\", \\\r\n",
        "    \"have\", \"has\", \"had\", \"do\", \"does\", \"did\", \"but\", \"at\", \"by\", \"with\", \"from\", \"here\", \"when\", \"where\", \"how\", \\\r\n",
        "    \"all\", \"any\", \"both\", \"each\", \"few\", \"more\", \"some\", \"such\", \"no\", \"nor\", \"too\", \"very\", \"can\", \"will\", \"just\"]\r\n",
        "    dictionary={}\r\n",
        "    file_contents.split()\r\n",
        "    txt=\"\"\r\n",
        "    \r\n",
        "    # LEARNER CODE START HERE\r\n",
        "    for word in file_contents:\r\n",
        "        if word==\" \":\r\n",
        "            txt+=word\r\n",
        "        elif word.isalpha():\r\n",
        "            txt+=word\r\n",
        "    file_contents=txt.split()\r\n",
        "    for word in file_contents:\r\n",
        "        word=word.lower()\r\n",
        "        x=0\r\n",
        "        for pun in punctuations:\r\n",
        "            if pun==word:\r\n",
        "                x=1\r\n",
        "        for uniword in uninteresting_words:\r\n",
        "            if uniword==word:\r\n",
        "                x=1\r\n",
        "        if x!=1:\r\n",
        "            if word not in dictionary:\r\n",
        "                    dictionary[word]=0\r\n",
        "            dictionary[word]+=1\r\n",
        "    \r\n",
        "    #wordcloud\r\n",
        "    cloud = wordcloud.WordCloud()\r\n",
        "    cloud.generate_from_frequencies(dictionary)\r\n",
        "    cloud.to_file(\"myfile.jpg\")\r\n",
        "    return cloud.to_array()"
      ],
      "execution_count": null,
      "outputs": []
    },
    {
      "cell_type": "markdown",
      "metadata": {
        "id": "mNKkRZzNpbFk"
      },
      "source": [
        "If you have done everything correctly, your word cloud image should appear after running the cell below. Fingers crossed!"
      ]
    },
    {
      "cell_type": "code",
      "metadata": {
        "id": "tSh9qbNEpcpd"
      },
      "source": [
        "# Display your wordcloud image\r\n",
        "\r\n",
        "myimage = calculate_frequencies(file_contents)\r\n",
        "plt.imshow(myimage, interpolation = 'nearest')\r\n",
        "plt.axis('off')\r\n",
        "plt.show()"
      ],
      "execution_count": null,
      "outputs": []
    },
    {
      "cell_type": "markdown",
      "metadata": {
        "id": "XDXeoym6peKf"
      },
      "source": [
        "If your word cloud image did not appear, go back and rework your calculate_frequencies function until you get the desired output. Definitely check that you passed your frequecy count dictionary into the generate_from_frequencies function of wordcloud. Once you have correctly displayed your word cloud image, you are all done with this project. Nice work!"
      ]
    },
    {
      "cell_type": "markdown",
      "metadata": {
        "id": "uQA0uMc3O29v"
      },
      "source": [
        "# Course-2: **Using Python to Interact with the Operating System**"
      ]
    },
    {
      "cell_type": "code",
      "metadata": {
        "id": "5xdYCvulj3L8"
      },
      "source": [
        "from pathlib import Path\r\n",
        "import os\r\n",
        ">>> Path.cwd()\r\n",
        "WindowsPath('C:/Users/Al/AppData/Local/Programs/Python/Python37')'\r\n",
        ">>> os.chdir('C:\\\\Windows\\\\System32')\r\n",
        ">>> Path.cwd()\r\n",
        "WindowsPath('C:/Windows/System32')"
      ],
      "execution_count": null,
      "outputs": []
    },
    {
      "cell_type": "markdown",
      "metadata": {
        "id": "Grp8Hl2KytAQ"
      },
      "source": [
        "Week 2"
      ]
    },
    {
      "cell_type": "markdown",
      "metadata": {
        "id": "SJejFPchyveL"
      },
      "source": [
        "## **Regex**"
      ]
    },
    {
      "cell_type": "markdown",
      "metadata": {
        "id": "X7STRgL4_t-N"
      },
      "source": [
        "https://regex101.com/r/3ev35T/1"
      ]
    },
    {
      "cell_type": "markdown",
      "metadata": {
        "id": "iy80HsHYHyoT"
      },
      "source": [
        "I like to use https://regexone.com for beginners, and then https://regexr.com to test out my regex"
      ]
    },
    {
      "cell_type": "markdown",
      "metadata": {
        "id": "alRWo_Qsktxk"
      },
      "source": [
        "https://regexcrossword.com/"
      ]
    },
    {
      "cell_type": "code",
      "metadata": {
        "colab": {
          "base_uri": "https://localhost:8080/"
        },
        "id": "PF_ZeE_e05i5",
        "outputId": "ca290209-54d5-425f-e549-6af37708936c"
      },
      "source": [
        "import re\r\n",
        "\r\n",
        "#search=re.search(r\"way\",\"The end of the way highway\")\r\n",
        "search=re.findall(r\"cat|dog\",\"Today it's raining cats and dogs\")\r\n",
        "print(search)\r\n",
        "print(search[0]) #only this exists\r\n",
        "print(search[1]) \r\n",
        "print(len(search))"
      ],
      "execution_count": null,
      "outputs": [
        {
          "output_type": "stream",
          "text": [
            "['cat', 'dog']\n",
            "cat\n",
            "dog\n",
            "2\n"
          ],
          "name": "stdout"
        }
      ]
    },
    {
      "cell_type": "markdown",
      "metadata": {
        "id": "snLJcACYAFDw"
      },
      "source": [
        "Add to the regular expression used in the extract_pid function, to return the uppercase message in parenthesis, after the process id.\r\n",
        "\r\n",
        "Kinda like tug of war between lazy and greedy"
      ]
    },
    {
      "cell_type": "code",
      "metadata": {
        "id": "PaIHBGeQ_vaO",
        "colab": {
          "base_uri": "https://localhost:8080/"
        },
        "outputId": "3425d917-d997-4833-a78b-ac4b77054530"
      },
      "source": [
        "import re\r\n",
        "def extract_pid(log_line):\r\n",
        "    regex = r\"\\[(\\d+)\\].+?([A-Z]+)\"\r\n",
        "    result = re.search(regex, log_line)\r\n",
        "    if result is None:\r\n",
        "        return None\r\n",
        "    return \"{} ({})\".format(result[1],result[2])\r\n",
        "\r\n",
        "print(extract_pid(\"July 31 07:51:48 mycomputer bad_process[12345]:  ERROR Performing package upgrade\")) # 12345 (ERROR)\r\n",
        "print(extract_pid(\"99 elephants in a [cage]\")) # None\r\n",
        "print(extract_pid(\"A string that also has numbers [34567] but no uppercase message\")) # None\r\n",
        "print(extract_pid(\"July 31 08:08:08 mycomputer new_process[67890]: RUNNING Performing backup\")) # 67890 (RUNNING)\r\n"
      ],
      "execution_count": null,
      "outputs": [
        {
          "output_type": "stream",
          "text": [
            "12345 (ERROR)\n",
            "None\n",
            "None\n",
            "67890 (RUNNING)\n"
          ],
          "name": "stdout"
        }
      ]
    },
    {
      "cell_type": "markdown",
      "metadata": {
        "id": "xSiQ9twDiHUb"
      },
      "source": [
        "The check_time function checks for the time format of a 12-hour clock, as follows: the hour is between 1 and 12, with no leading zero, followed by a colon, then minutes between 00 and 59, then an optional space, and then AM or PM, in upper or lower case. Fill in the regular expression to do that. How many of the concepts that you just learned can you use here?"
      ]
    },
    {
      "cell_type": "code",
      "metadata": {
        "id": "XLhbef-yiHpj"
      },
      "source": [
        "import re\r\n",
        "def check_time(text):\r\n",
        "  pattern = r\"(^([1-9]|1[0-2])\\:[0-5]\\d ?(am|pm)$)\"\r\n",
        "  result = re.search(pattern, text,re.IGNORECASE)\r\n",
        "  return result != None\r\n",
        "\r\n",
        "print(check_time(\"12:45pm\")) # True\r\n",
        "print(check_time(\"9:59 AM\")) # True\r\n",
        "print(check_time(\"6:60am\")) # False\r\n",
        "print(check_time(\"five o'clock\")) # False"
      ],
      "execution_count": null,
      "outputs": []
    },
    {
      "cell_type": "code",
      "metadata": {
        "id": "_xtXUxCW9Bxx",
        "colab": {
          "base_uri": "https://localhost:8080/"
        },
        "outputId": "7c7f8d1c-4b24-4144-9924-a465f92f63e0"
      },
      "source": [
        "import os\r\n",
        "import csv\r\n",
        "\r\n",
        "# Create a file with data in it\r\n",
        "def create_file(filename):\r\n",
        "  with open(filename, \"w\") as file:\r\n",
        "    file.write(\"name,color,type\\n\")\r\n",
        "    file.write(\"carnation,pink,annual\\n\")\r\n",
        "    file.write(\"daffodil,yellow,perennial\\n\")\r\n",
        "    file.write(\"iris,blue,perennial\\n\")\r\n",
        "    file.write(\"poinsettia,red,perennial\\n\")\r\n",
        "    file.write(\"sunflower,yellow,annual\\n\")\r\n",
        "\r\n",
        "# Read the file contents and format the information about each row\r\n",
        "def contents_of_file(filename):\r\n",
        "  return_string = \"\"\r\n",
        "\r\n",
        "  # Call the function to create the file \r\n",
        "  create_file(filename)\r\n",
        "\r\n",
        "  # Open the file\r\n",
        "  with open(filename) as file:\r\n",
        "    # Read the rows of the file\r\n",
        "    rows=csv.reader(file)\r\n",
        "    # Process each row\r\n",
        "    for row in rows:\r\n",
        "      name, color, types = row\r\n",
        "      # Format the return string for data rows only\r\n",
        "      if name!=\"name\":\r\n",
        "          return_string += \"a {} {} is {}\\n\".format(color, name, types)\r\n",
        "  return return_string\r\n",
        "\r\n",
        "#Call the function\r\n",
        "print(contents_of_file(\"flowers.csv\"))"
      ],
      "execution_count": null,
      "outputs": [
        {
          "output_type": "stream",
          "text": [
            "a pink carnation is annual\n",
            "a yellow daffodil is perennial\n",
            "a blue iris is perennial\n",
            "a red poinsettia is perennial\n",
            "a yellow sunflower is annual\n",
            "\n"
          ],
          "name": "stdout"
        }
      ]
    },
    {
      "cell_type": "markdown",
      "metadata": {
        "id": "lmSeBMyTmJlp"
      },
      "source": [
        "Question 1\r\n",
        "We're working with a CSV file, which contains employee information. Each record has a name field, followed by a phone number field, and a role field. The phone number field contains U.S. phone numbers, and needs to be modified to the international format, with \"+1-\" in front of the phone number. Fill in the regular expression, using groups, to use the transform_record function to do that."
      ]
    },
    {
      "cell_type": "code",
      "metadata": {
        "colab": {
          "base_uri": "https://localhost:8080/"
        },
        "id": "xuTxhIzPmJCr",
        "outputId": "5bf9765a-b4a0-4d17-927b-04210f534119"
      },
      "source": [
        "import re\r\n",
        "def transform_record(record):\r\n",
        "  new_record = re.sub(r\"(\\d{3}-\\d{3}-?\\d{4})\",r\"+1-\\1\",record)\r\n",
        "  return new_record\r\n",
        "\r\n",
        "print(transform_record(\"Sabrina Green,802-867-5309,System Administrator\")) \r\n",
        "# Sabrina Green,+1-802-867-5309,System Administrator\r\n",
        "\r\n",
        "print(transform_record(\"Eli Jones,684-3481127,IT specialist\")) \r\n",
        "# Eli Jones,+1-684-3481127,IT specialist\r\n",
        "\r\n",
        "print(transform_record(\"Melody Daniels,846-687-7436,Programmer\")) \r\n",
        "# Melody Daniels,+1-846-687-7436,Programmer\r\n",
        "\r\n",
        "print(transform_record(\"Charlie Rivera,698-746-3357,Web Developer\")) \r\n",
        "# Charlie Rivera,+1-698-746-3357,Web Developer"
      ],
      "execution_count": null,
      "outputs": [
        {
          "output_type": "stream",
          "text": [
            "Sabrina Green,+1-802-867-5309,System Administrator\n",
            "Eli Jones,+1-684-3481127,IT specialist\n",
            "Melody Daniels,+1-846-687-7436,Programmer\n",
            "Charlie Rivera,+1-698-746-3357,Web Developer\n"
          ],
          "name": "stdout"
        }
      ]
    },
    {
      "cell_type": "markdown",
      "metadata": {
        "id": "-XtZGiROpD7x"
      },
      "source": [
        "Question 2\r\n",
        "The multi_vowel_words function returns all words with 3 or more consecutive vowels (a, e, i, o, u). Fill in the regular expression to do that."
      ]
    },
    {
      "cell_type": "code",
      "metadata": {
        "colab": {
          "base_uri": "https://localhost:8080/"
        },
        "id": "mxLtVIYjpESu",
        "outputId": "6fb6d9d5-ece1-46df-d2a7-3a4018ac31c2"
      },
      "source": [
        "import re\r\n",
        "def multi_vowel_words(text):\r\n",
        "  pattern = r\"\\b(\\w*[aeiou]{3}\\w*)\\b\"\r\n",
        "  result = re.findall(pattern, text)\r\n",
        "  return result\r\n",
        "\r\n",
        "print(multi_vowel_words(\"Life is beautiful\")) \r\n",
        "# ['beautiful']\r\n",
        "\r\n",
        "print(multi_vowel_words(\"Obviously, the queen is courageous and gracious.\")) \r\n",
        "# ['Obviously', 'queen', 'courageous', 'gracious']\r\n",
        "\r\n",
        "print(multi_vowel_words(\"The rambunctious children had to sit quietly and await their delicious dinner.\")) \r\n",
        "# ['rambunctious', 'quietly', 'delicious']\r\n",
        "\r\n",
        "print(multi_vowel_words(\"The order of a data queue is First In First Out (FIFO)\")) \r\n",
        "# ['queue']\r\n",
        "\r\n",
        "print(multi_vowel_words(\"Hello world!\")) \r\n",
        "# []"
      ],
      "execution_count": null,
      "outputs": [
        {
          "output_type": "stream",
          "text": [
            "['beautiful']\n",
            "['Obviously', 'queen', 'courageous', 'gracious']\n",
            "['rambunctious', 'quietly', 'delicious']\n",
            "['queue']\n",
            "[]\n"
          ],
          "name": "stdout"
        }
      ]
    },
    {
      "cell_type": "markdown",
      "metadata": {
        "id": "8-UhHx2mjlEl"
      },
      "source": [
        "We're using the same syslog, and we want to display the date, time, and process id that's inside the square brackets. We can read each line of the syslog and pass the contents to the show_time_of_pid function. Fill in the gaps to extract the date, time, and process id from the passed line, and return this format: Jul 6 14:01:23 pid:29440."
      ]
    },
    {
      "cell_type": "code",
      "metadata": {
        "colab": {
          "base_uri": "https://localhost:8080/"
        },
        "id": "Rmlv8LGajlQk",
        "outputId": "9cb87e95-0ae2-4c92-d3ef-aafc3a2a4111"
      },
      "source": [
        "import re\r\n",
        "def show_time_of_pid(line):\r\n",
        "  #pattern = r\"^(\\w{3} \\d{1,2}) ([0-2][0-9]\\:[0-5]\\d\\:[0-5]\\d).+?\\[(\\d+)\\]\"\r\n",
        "  pattern = r\"^(\\w{3} \\d{1,2}) ((0[0-9]|1[0-9]|2[0-3])\\:[0-5]\\d\\:[0-5]\\d).+?\\[(\\d+)\\]\"\r\n",
        "  result = re.search(pattern, line)\r\n",
        "  return \"{} {} pid:{}\".format(result[1],result[2],result[4])\r\n",
        "\r\n",
        "print(show_time_of_pid(\"Jul 6 14:01:23 computer.name CRON[29440]: USER (good_user)\")) # Jul 6 14:01:23 pid:29440\r\n",
        "\r\n",
        "print(show_time_of_pid(\"Jul 6 14:02:08 computer.name jam_tag=psim[29187]: (UUID:006)\")) # Jul 6 14:02:08 pid:29187\r\n",
        "\r\n",
        "print(show_time_of_pid(\"Jul 6 14:02:09 computer.name jam_tag=psim[29187]: (UUID:007)\")) # Jul 6 14:02:09 pid:29187\r\n",
        "\r\n",
        "print(show_time_of_pid(\"Jul 6 14:03:01 computer.name CRON[29440]: USER (naughty_user)\")) # Jul 6 14:03:01 pid:29440\r\n",
        "\r\n",
        "print(show_time_of_pid(\"Jul 6 14:03:40 computer.name cacheclient[29807]: start syncing from \\\"0xDEADBEEF\\\"\")) # Jul 6 14:03:40 pid:29807\r\n",
        "\r\n",
        "print(show_time_of_pid(\"Jul 6 14:04:01 computer.name CRON[29440]: USER (naughty_user)\")) # Jul 6 14:04:01 pid:29440\r\n",
        "\r\n",
        "print(show_time_of_pid(\"Jul 6 14:05:01 computer.name CRON[29440]: USER (naughty_user)\")) # Jul 6 14:05:01 pid:29440"
      ],
      "execution_count": null,
      "outputs": [
        {
          "output_type": "stream",
          "text": [
            "Jul 6 14:01:23 pid:29440\n",
            "Jul 6 14:02:08 pid:29187\n",
            "Jul 6 14:02:09 pid:29187\n",
            "Jul 6 14:03:01 pid:29440\n",
            "Jul 6 14:03:40 pid:29807\n",
            "Jul 6 14:04:01 pid:29440\n",
            "Jul 6 14:05:01 pid:29440\n"
          ],
          "name": "stdout"
        }
      ]
    },
    {
      "cell_type": "code",
      "metadata": {
        "colab": {
          "base_uri": "https://localhost:8080/"
        },
        "id": "QBs9WCyamuIX",
        "outputId": "79552921-9bb0-4d11-84d9-e0a0a7e4ed17"
      },
      "source": [
        "namelist={}\r\n",
        "name=\"KK\"\r\n",
        "\r\n"
      ],
      "execution_count": null,
      "outputs": [
        {
          "output_type": "stream",
          "text": [
            "5\n"
          ],
          "name": "stdout"
        }
      ]
    },
    {
      "cell_type": "markdown",
      "metadata": {
        "id": "oJKQBFxocQ9D"
      },
      "source": [
        "# Pallet\r\n"
      ]
    },
    {
      "cell_type": "code",
      "metadata": {
        "id": "MJdspl-WcTDW",
        "colab": {
          "base_uri": "https://localhost:8080/"
        },
        "outputId": "40029561-84b6-4948-f751-22c60a48f72e"
      },
      "source": [
        "#@title\n",
        "##Duplicated backup\n",
        "#A2 load>   A   deliver>   B   unload>   B2     deliver>    A2...\n",
        "#loading is done with the speed of pallet flow (D)  \n",
        "\n",
        "A=50   #loaded pallet\n",
        "A2=100   #A prime, empty pallet\n",
        "Ta=0\n",
        "\n",
        "B=100   #loaded pallet\n",
        "B2=50   #B prime, empty pallet\n",
        "Tb=0\n",
        "\n",
        "D=10 #Pallet flow (No. of pallets per day)\n",
        "Fa=5 #Frequency in Days per delivery (Days)\n",
        "Fb=7\n",
        "T=3 #Days taken for one delivery (Days)\n",
        "\n",
        "XFa=Fa-1   #Count to start delivery, initialized to start at the first day\n",
        "XFb=Fb-1\n",
        "XFTa=0  #Count until delivery reach to the other node\n",
        "XFTb=0\n",
        "\n",
        "for i in range (1,31):      #numbers of days to check\n",
        "    A2-=D\n",
        "    A+=D\n",
        "    B-=D\n",
        "    B2+=D\n",
        "    XFa+=1\n",
        "    XFb+=1\n",
        "#code for A to B\n",
        "    if XFTa!=0:\n",
        "        XFTa+=1\n",
        "    if XFTa==T:\n",
        "        B+=Ta\n",
        "        Ta=0\n",
        "        XFTa=0\n",
        "    if XFa==Fa:\n",
        "        XFa=0\n",
        "        XFTa=1\n",
        "        Ta=A-D\n",
        "        A=D\n",
        "\n",
        "#same code for B2 to A2\n",
        "    if XFTb!=0:\n",
        "        XFTb+=1\n",
        "    if XFTb==T:\n",
        "        A2+=Tb\n",
        "        Tb=0\n",
        "        XFTb=0\n",
        "    if XFb==Fb:\n",
        "        XFb=0\n",
        "        XFTb=1\n",
        "        Tb=B2-D\n",
        "        B2=D\n",
        "        \n",
        "\n",
        "    Total =A+A2+Ta+B+B2+Tb\n",
        "    #print(\"Day no.{}: A2={}, A={}, Ta={}, XFa={}, XFTa={}, B={}, B2={}, Tb={}, XFb={}, XFTb={}, Total={}\".format(i,A2,A,Ta,XFa,XFTa,B,B2,Tb,XFb,XFTb,Total))\n",
        "    print(\"Day no.{}: A2={}, A={}, Ta={}, B={}, B2={}, Tb={}, Total={};\".format(i,A2,A,Ta,B,B2,Tb,Total))\n",
        "\n",
        "\n",
        "\n",
        "\n",
        "\n"
      ],
      "execution_count": null,
      "outputs": [
        {
          "output_type": "stream",
          "text": [
            "Day no.1: A2=90, A=10, Ta=50, B=90, B2=10, Tb=50, Total=300;\n",
            "Day no.2: A2=80, A=20, Ta=50, B=80, B2=20, Tb=50, Total=300;\n",
            "Day no.3: A2=120, A=30, Ta=0, B=120, B2=30, Tb=0, Total=300;\n",
            "Day no.4: A2=110, A=40, Ta=0, B=110, B2=40, Tb=0, Total=300;\n",
            "Day no.5: A2=100, A=50, Ta=0, B=100, B2=50, Tb=0, Total=300;\n",
            "Day no.6: A2=90, A=10, Ta=50, B=90, B2=60, Tb=0, Total=300;\n",
            "Day no.7: A2=80, A=20, Ta=50, B=80, B2=70, Tb=0, Total=300;\n",
            "Day no.8: A2=70, A=30, Ta=0, B=120, B2=10, Tb=70, Total=300;\n",
            "Day no.9: A2=60, A=40, Ta=0, B=110, B2=20, Tb=70, Total=300;\n",
            "Day no.10: A2=120, A=50, Ta=0, B=100, B2=30, Tb=0, Total=300;\n",
            "Day no.11: A2=110, A=10, Ta=50, B=90, B2=40, Tb=0, Total=300;\n",
            "Day no.12: A2=100, A=20, Ta=50, B=80, B2=50, Tb=0, Total=300;\n",
            "Day no.13: A2=90, A=30, Ta=0, B=120, B2=60, Tb=0, Total=300;\n",
            "Day no.14: A2=80, A=40, Ta=0, B=110, B2=70, Tb=0, Total=300;\n",
            "Day no.15: A2=70, A=50, Ta=0, B=100, B2=10, Tb=70, Total=300;\n",
            "Day no.16: A2=60, A=10, Ta=50, B=90, B2=20, Tb=70, Total=300;\n",
            "Day no.17: A2=120, A=20, Ta=50, B=80, B2=30, Tb=0, Total=300;\n",
            "Day no.18: A2=110, A=30, Ta=0, B=120, B2=40, Tb=0, Total=300;\n",
            "Day no.19: A2=100, A=40, Ta=0, B=110, B2=50, Tb=0, Total=300;\n",
            "Day no.20: A2=90, A=50, Ta=0, B=100, B2=60, Tb=0, Total=300;\n",
            "Day no.21: A2=80, A=10, Ta=50, B=90, B2=70, Tb=0, Total=300;\n",
            "Day no.22: A2=70, A=20, Ta=50, B=80, B2=10, Tb=70, Total=300;\n",
            "Day no.23: A2=60, A=30, Ta=0, B=120, B2=20, Tb=70, Total=300;\n",
            "Day no.24: A2=120, A=40, Ta=0, B=110, B2=30, Tb=0, Total=300;\n",
            "Day no.25: A2=110, A=50, Ta=0, B=100, B2=40, Tb=0, Total=300;\n",
            "Day no.26: A2=100, A=10, Ta=50, B=90, B2=50, Tb=0, Total=300;\n",
            "Day no.27: A2=90, A=20, Ta=50, B=80, B2=60, Tb=0, Total=300;\n",
            "Day no.28: A2=80, A=30, Ta=0, B=120, B2=70, Tb=0, Total=300;\n",
            "Day no.29: A2=70, A=40, Ta=0, B=110, B2=10, Tb=70, Total=300;\n",
            "Day no.30: A2=60, A=50, Ta=0, B=100, B2=20, Tb=70, Total=300;\n"
          ],
          "name": "stdout"
        }
      ]
    },
    {
      "cell_type": "code",
      "metadata": {
        "id": "tKF90ev_4_TW"
      },
      "source": [
        ""
      ],
      "execution_count": null,
      "outputs": []
    }
  ]
}