{
  "nbformat": 4,
  "nbformat_minor": 0,
  "metadata": {
    "colab": {
      "name": "To check Kon.ipynb",
      "provenance": [],
      "authorship_tag": "ABX9TyMzFZkmIqVRze5QdFu5YbsP",
      "include_colab_link": true
    },
    "kernelspec": {
      "name": "python3",
      "display_name": "Python 3"
    }
  },
  "cells": [
    {
      "cell_type": "markdown",
      "metadata": {
        "id": "view-in-github",
        "colab_type": "text"
      },
      "source": [
        "<a href=\"https://colab.research.google.com/github/KonKyaw/AutoPython/blob/master/To_check_Kon.ipynb\" target=\"_parent\"><img src=\"https://colab.research.google.com/assets/colab-badge.svg\" alt=\"Open In Colab\"/></a>"
      ]
    },
    {
      "cell_type": "code",
      "metadata": {
        "id": "ZPPzURgNVFQO",
        "colab_type": "code",
        "colab": {}
      },
      "source": [
        ""
      ],
      "execution_count": 0,
      "outputs": []
    },
    {
      "cell_type": "code",
      "metadata": {
        "id": "r1Pkbsnj1RO1",
        "colab_type": "code",
        "outputId": "df966dac-25c1-434c-b632-5fb4fcc2d932",
        "colab": {
          "base_uri": "https://localhost:8080/",
          "height": 153
        }
      },
      "source": [
        "class Mammal:\n",
        "    #def __init__(self, legs, tail):\n",
        "       \n",
        "    eyes=2\n",
        "    nose=1\n",
        "    species=\"Mammals Baby!\"\n",
        "\n",
        "class Dog(Mammal):\n",
        "    def __init__(self,name,age,colour,fur):\n",
        "        self.name=name\n",
        "        self.age=age\n",
        "        self.colour=colour\n",
        "        self.fur=fur\n",
        "    tail=True\n",
        "    limbs=4\n",
        "    special=\"loves woofing\"\n",
        "Growie= Dog(\"Growie\",1.5,\"Grey\",\"Long\")\n",
        "print(\"The colour of \"+Growie.name+\"'s fur is \"+Growie.colour+\" and they are \"+Growie.fur)\n",
        "print(Growie.special)\n",
        "\n",
        "class Human(Mammal):\n",
        "    def __init__(self,name,age,uni):\n",
        "        self.name=name\n",
        "        self.age=age\n",
        "        self.uni=uni\n",
        "    tail=False\n",
        "    limbs=2\n",
        "    special=\"genius\"\n",
        "Kon= Human(\"Kaung Kyaw\",26,\"Kaiyo\")\n",
        "Yuh= Human(\"YC Ong\",30,\"Toko\")\n",
        "print(Kon.eyes)\n",
        "print(Kon.species)\n",
        "print(Kon.limbs)\n",
        "print(Yuh.uni)\n",
        "print(Yuh.name)\n",
        "print(Yuh.special)"
      ],
      "execution_count": 0,
      "outputs": [
        {
          "output_type": "stream",
          "text": [
            "The colour of Growie's fur is Grey and they are Long\n",
            "loves woofing\n",
            "2\n",
            "Mammals Baby!\n",
            "2\n",
            "Toko\n",
            "YC Ong\n",
            "genius\n"
          ],
          "name": "stdout"
        }
      ]
    }
  ]
}